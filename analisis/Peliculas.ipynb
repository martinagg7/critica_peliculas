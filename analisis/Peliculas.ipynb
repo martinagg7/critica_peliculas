{
  "nbformat": 4,
  "nbformat_minor": 0,
  "metadata": {
    "colab": {
      "provenance": []
    },
    "kernelspec": {
      "name": "python3",
      "display_name": "Python 3"
    },
    "language_info": {
      "name": "python"
    }
  },
  "cells": [
    {
      "cell_type": "markdown",
      "source": [
        "# **Crítica de películas**"
      ],
      "metadata": {
        "id": "BeS2YhEJvCPr"
      }
    },
    {
      "cell_type": "markdown",
      "source": [
        "*Librerías*"
      ],
      "metadata": {
        "id": "o30JcmD9vAst"
      }
    },
    {
      "cell_type": "code",
      "execution_count": null,
      "metadata": {
        "id": "JT8XZBEHu9mv"
      },
      "outputs": [],
      "source": [
        "import pandas as pd \n",
        "import numpy as np\n",
        "import matplotlib.pyplot as plt"
      ]
    },
    {
      "cell_type": "markdown",
      "source": [
        "*Tratamiento de los datos*"
      ],
      "metadata": {
        "id": "d9K3CFlZvf2b"
      }
    },
    {
      "cell_type": "code",
      "source": [
        "df_peliculas=pd.DataFrame({'Puntuación':np.array([0,1,2,3,4,5]),'Cantidad de votantes':np.array([40,96,133,145,99,40])})\n"
      ],
      "metadata": {
        "id": "4Es87SVjvfUD"
      },
      "execution_count": null,
      "outputs": []
    },
    {
      "cell_type": "code",
      "source": [
        "#gráfica puntuaciones\n",
        "\n",
        "fig, ax = plt.subplots()\n",
        "ax.grid(axis='y', color='gray', linestyle='-', linewidth=0.5)\n",
        "ax.bar(df_peliculas['Puntuación'], df_peliculas['Cantidad de votantes'])\n",
        "ax.plot(df_peliculas['Puntuación'], df_peliculas['Cantidad de votantes'], color='orange', linewidth=2)\n",
        "\n",
        "\n",
        "ax.set_ylim([0, 160])\n",
        "ax.invert_xaxis()\n",
        "ax.set_title('Estrellas películas')\n",
        "plt.show()\n"
      ],
      "metadata": {
        "colab": {
          "base_uri": "https://localhost:8080/",
          "height": 473
        },
        "id": "G90g6NZQxJVg",
        "outputId": "5006280f-145e-4a80-e967-f6d353e6e18b"
      },
      "execution_count": null,
      "outputs": [
        {
          "output_type": "display_data",
          "data": {
            "text/plain": [
              "<Figure size 640x480 with 1 Axes>"
            ],
            "image/png": "[encoded data removed]"
          },
          "metadata": {}
        }
      ]
    },
    {
      "cell_type": "markdown",
      "source": [
        "Media ,varianza, cuartiles....."
      ],
      "metadata": {
        "id": "Q6i3qnqfyYPP"
      }
    },
    {
      "cell_type": "code",
      "source": [
        "df_peliculas=df_peliculas.rename(columns={'Puntuación':'Puntuación Xi','Cantidad de votantes':' Votantes Ni'})"
      ],
      "metadata": {
        "id": "FpUw4w8VyPh5"
      },
      "execution_count": null,
      "outputs": []
    },
    {
      "cell_type": "markdown",
      "source": [
        "*Calculo de frecuencia relativa (fi) y la frecuencia relativa acumulada(Fi)*"
      ],
      "metadata": {
        "id": "SHbZ9hAwaPKH"
      }
    },
    {
      "cell_type": "code",
      "source": [
        "#función  para crear la columna  fi de nuestra tabla que es la columnna de las frecuencias relativas\n",
        "\n",
        "def fi():\n",
        "  votantes=[40,96,133,145,99,40]\n",
        "  total_votantes=sum(votantes)\n",
        "  fi=[]\n",
        "  for votante in votantes :\n",
        "    votante_fi=votante/(total_votantes)\n",
        "    fi.append(votante_fi)\n",
        "    \n",
        "  return fi\n",
        "\n",
        "frec_relativa=fi()\n",
        "#la lista de la frecuencia relativa\n",
        "print(frec_relativa)\n",
        "#comprobamos que los valores suman 1\n",
        "suma=sum(frec_relativa)\n",
        "print(\"Como podremos comprobar las suma es \" + str(suma))\n",
        "\n"
      ],
      "metadata": {
        "colab": {
          "base_uri": "https://localhost:8080/"
        },
        "id": "IIe0senAQKVj",
        "outputId": "340e3fa7-7cb0-4ae1-8c14-e6e8be54d0fc"
      },
      "execution_count": null,
      "outputs": [
        {
          "output_type": "stream",
          "name": "stdout",
          "text": [
            "[0.07233273056057866, 0.1735985533453888, 0.24050632911392406, 0.26220614828209765, 0.17902350813743217, 0.07233273056057866]\n",
            "Como podremos comprobar las suma es 1.0\n"
          ]
        }
      ]
    },
    {
      "cell_type": "code",
      "source": [
        "# Define una lista de valores de frecuencias relativas\n",
        "frec_relativa = frec_relativa\n",
        "\n",
        "# Calcula la frecuencia acumulada para cada valor en la lista de frecuencias relativas\n",
        "frec_acumulada = []\n",
        "acumulado = 0\n",
        "for frecuencia in frec_relativa:\n",
        "    acumulado += frecuencia\n",
        "    frec_acumulada.append(acumulado)\n",
        "\n",
        "# Imprime la lista de frecuencias acumuladas\n",
        "print(frec_acumulada)\n"
      ],
      "metadata": {
        "colab": {
          "base_uri": "https://localhost:8080/"
        },
        "id": "hVHOu3hpYwFP",
        "outputId": "c61577a6-6c0e-49e3-f14f-ab19f916b2ca"
      },
      "execution_count": null,
      "outputs": [
        {
          "output_type": "stream",
          "name": "stdout",
          "text": [
            "[0.07233273056057866, 0.24593128390596747, 0.4864376130198915, 0.7486437613019892, 0.9276672694394213, 1.0]\n"
          ]
        }
      ]
    },
    {
      "cell_type": "code",
      "source": [
        "frec_relativa_redondeada = [round(valor, 4) for valor in frec_relativa]\n",
        "frec_relativa_acumulada_redondeada=[round(valor, 4) for valor in frec_acumulada]\n",
        "df_peliculas['fi']=frec_relativa_redondeada\n",
        "df_peliculas[\"Fi\"]=frec_relativa_acumulada_redondeada\n",
        "df_peliculas"
      ],
      "metadata": {
        "colab": {
          "base_uri": "https://localhost:8080/",
          "height": 252
        },
        "id": "BNi2VztFUyj-",
        "outputId": "a682401f-ae7e-4b68-aa67-01db39d5b1b1"
      },
      "execution_count": null,
      "outputs": [
        {
          "output_type": "execute_result",
          "data": {
            "text/plain": [
              "   Puntuación Xi   Votantes Ni      fi      Fi\n",
              "0              0            40  0.0723  0.0723\n",
              "1              1            96  0.1736  0.2459\n",
              "2              2           133  0.2405  0.4864\n",
              "3              3           145  0.2622  0.7486\n",
              "4              4            99  0.1790  0.9277\n",
              "5              5            40  0.0723  1.0000"
            ],
            "text/html": [
              "\n",
              "  <div id=\"df-2a282dd7-b451-4ef9-a824-58974bbe2a08\">\n",
              "    <div class=\"colab-df-container\">\n",
              "      <div>\n",
              "<style scoped>\n",
              "    .dataframe tbody tr th:only-of-type {\n",
              "        vertical-align: middle;\n",
              "    }\n",
              "\n",
              "    .dataframe tbody tr th {\n",
              "        vertical-align: top;\n",
              "    }\n",
              "\n",
              "    .dataframe thead th {\n",
              "        text-align: right;\n",
              "    }\n",
              "</style>\n",
              "<table border=\"1\" class=\"dataframe\">\n",
              "  <thead>\n",
              "    <tr style=\"text-align: right;\">\n",
              "      <th></th>\n",
              "      <th>Puntuación Xi</th>\n",
              "      <th>Votantes Ni</th>\n",
              "      <th>fi</th>\n",
              "      <th>Fi</th>\n",
              "    </tr>\n",
              "  </thead>\n",
              "  <tbody>\n",
              "    <tr>\n",
              "      <th>0</th>\n",
              "      <td>0</td>\n",
              "      <td>40</td>\n",
              "      <td>0.0723</td>\n",
              "      <td>0.0723</td>\n",
              "    </tr>\n",
              "    <tr>\n",
              "      <th>1</th>\n",
              "      <td>1</td>\n",
              "      <td>96</td>\n",
              "      <td>0.1736</td>\n",
              "      <td>0.2459</td>\n",
              "    </tr>\n",
              "    <tr>\n",
              "      <th>2</th>\n",
              "      <td>2</td>\n",
              "      <td>133</td>\n",
              "      <td>0.2405</td>\n",
              "      <td>0.4864</td>\n",
              "    </tr>\n",
              "    <tr>\n",
              "      <th>3</th>\n",
              "      <td>3</td>\n",
              "      <td>145</td>\n",
              "      <td>0.2622</td>\n",
              "      <td>0.7486</td>\n",
              "    </tr>\n",
              "    <tr>\n",
              "      <th>4</th>\n",
              "      <td>4</td>\n",
              "      <td>99</td>\n",
              "      <td>0.1790</td>\n",
              "      <td>0.9277</td>\n",
              "    </tr>\n",
              "    <tr>\n",
              "      <th>5</th>\n",
              "      <td>5</td>\n",
              "      <td>40</td>\n",
              "      <td>0.0723</td>\n",
              "      <td>1.0000</td>\n",
              "    </tr>\n",
              "  </tbody>\n",
              "</table>\n",
              "</div>\n",
              "      <button class=\"colab-df-convert\" onclick=\"convertToInteractive('df-2a282dd7-b451-4ef9-a824-58974bbe2a08')\"\n",
              "              title=\"Convert this dataframe to an interactive table.\"\n",
              "              style=\"display:none;\">\n",
              "        \n",
              "  <svg xmlns=\"http://www.w3.org/2000/svg\" height=\"24px\"viewBox=\"0 0 24 24\"\n",
              "       width=\"24px\">\n",
              "    <path d=\"M0 0h24v24H0V0z\" fill=\"none\"/>\n",
              "    <path d=\"M18.56 5.44l.94 2.06.94-2.06 2.06-.94-2.06-.94-.94-2.06-.94 2.06-2.06.94zm-11 1L8.5 8.5l.94-2.06 2.06-.94-2.06-.94L8.5 2.5l-.94 2.06-2.06.94zm10 10l.94 2.06.94-2.06 2.06-.94-2.06-.94-.94-2.06-.94 2.06-2.06.94z\"/><path d=\"M17.41 7.96l-1.37-1.37c-.4-.4-.92-.59-1.43-.59-.52 0-1.04.2-1.43.59L10.3 9.45l-7.72 7.72c-.78.78-.78 2.05 0 2.83L4 21.41c.39.39.9.59 1.41.59.51 0 1.02-.2 1.41-.59l7.78-7.78 2.81-2.81c.8-.78.8-2.07 0-2.86zM5.41 20L4 18.59l7.72-7.72 1.47 1.35L5.41 20z\"/>\n",
              "  </svg>\n",
              "      </button>\n",
              "      \n",
              "  <style>\n",
              "    .colab-df-container {\n",
              "      display:flex;\n",
              "      flex-wrap:wrap;\n",
              "      gap: 12px;\n",
              "    }\n",
              "\n",
              "    .colab-df-convert {\n",
              "      background-color: #E8F0FE;\n",
              "      border: none;\n",
              "      border-radius: 50%;\n",
              "      cursor: pointer;\n",
              "      display: none;\n",
              "      fill: #1967D2;\n",
              "      height: 32px;\n",
              "      padding: 0 0 0 0;\n",
              "      width: 32px;\n",
              "    }\n",
              "\n",
              "    .colab-df-convert:hover {\n",
              "      background-color: #E2EBFA;\n",
              "      box-shadow: 0px 1px 2px rgba(60, 64, 67, 0.3), 0px 1px 3px 1px rgba(60, 64, 67, 0.15);\n",
              "      fill: #174EA6;\n",
              "    }\n",
              "\n",
              "    [theme=dark] .colab-df-convert {\n",
              "      background-color: #3B4455;\n",
              "      fill: #D2E3FC;\n",
              "    }\n",
              "\n",
              "    [theme=dark] .colab-df-convert:hover {\n",
              "      background-color: #434B5C;\n",
              "      box-shadow: 0px 1px 3px 1px rgba(0, 0, 0, 0.15);\n",
              "      filter: drop-shadow(0px 1px 2px rgba(0, 0, 0, 0.3));\n",
              "      fill: #FFFFFF;\n",
              "    }\n",
              "  </style>\n",
              "\n",
              "      <script>\n",
              "        const buttonEl =\n",
              "          document.querySelector('#df-2a282dd7-b451-4ef9-a824-58974bbe2a08 button.colab-df-convert');\n",
              "        buttonEl.style.display =\n",
              "          google.colab.kernel.accessAllowed ? 'block' : 'none';\n",
              "\n",
              "        async function convertToInteractive(key) {\n",
              "          const element = document.querySelector('#df-2a282dd7-b451-4ef9-a824-58974bbe2a08');\n",
              "          const dataTable =\n",
              "            await google.colab.kernel.invokeFunction('convertToInteractive',\n",
              "                                                     [key], {});\n",
              "          if (!dataTable) return;\n",
              "\n",
              "          const docLinkHtml = 'Like what you see? Visit the ' +\n",
              "            '<a target=\"_blank\" href=https://colab.research.google.com/notebooks/data_table.ipynb>data table notebook</a>'\n",
              "            + ' to learn more about interactive tables.';\n",
              "          element.innerHTML = '';\n",
              "          dataTable['output_type'] = 'display_data';\n",
              "          await google.colab.output.renderOutput(dataTable, element);\n",
              "          const docLink = document.createElement('div');\n",
              "          docLink.innerHTML = docLinkHtml;\n",
              "          element.appendChild(docLink);\n",
              "        }\n",
              "      </script>\n",
              "    </div>\n",
              "  </div>\n",
              "  "
            ]
          },
          "metadata": {},
          "execution_count": 8
        }
      ]
    },
    {
      "cell_type": "markdown",
      "source": [
        "*Calculo de las columnas (NixXi) y Ni(Xi-media)^2*"
      ],
      "metadata": {
        "id": "EaDT3aPMaMio"
      }
    },
    {
      "cell_type": "code",
      "source": [
        "df_peliculas.columns"
      ],
      "metadata": {
        "colab": {
          "base_uri": "https://localhost:8080/"
        },
        "id": "Gmpqvf86dvEF",
        "outputId": "da54daa3-5de9-441c-e995-c75d8d9d6bfa"
      },
      "execution_count": null,
      "outputs": [
        {
          "output_type": "execute_result",
          "data": {
            "text/plain": [
              "Index(['Puntuación Xi', ' Votantes Ni', 'fi', 'Fi'], dtype='object')"
            ]
          },
          "metadata": {},
          "execution_count": 9
        }
      ]
    },
    {
      "cell_type": "code",
      "source": [
        "#en primer lugar calculamos Ni*Xi\n",
        "df_peliculas['Ni*Xi']=df_peliculas['Puntuación Xi']*df_peliculas[' Votantes Ni']\n",
        "df_peliculas"
      ],
      "metadata": {
        "colab": {
          "base_uri": "https://localhost:8080/",
          "height": 252
        },
        "id": "BqmcFuz0WDo9",
        "outputId": "ad8e9e99-f178-492e-fe42-db15346f40d5"
      },
      "execution_count": null,
      "outputs": [
        {
          "output_type": "execute_result",
          "data": {
            "text/plain": [
              "   Puntuación Xi   Votantes Ni      fi      Fi  Ni*Xi\n",
              "0              0            40  0.0723  0.0723      0\n",
              "1              1            96  0.1736  0.2459     96\n",
              "2              2           133  0.2405  0.4864    266\n",
              "3              3           145  0.2622  0.7486    435\n",
              "4              4            99  0.1790  0.9277    396\n",
              "5              5            40  0.0723  1.0000    200"
            ],
            "text/html": [
              "\n",
              "  <div id=\"df-14302e7e-c2c4-425b-9bc9-5c16912d4829\">\n",
              "    <div class=\"colab-df-container\">\n",
              "      <div>\n",
              "<style scoped>\n",
              "    .dataframe tbody tr th:only-of-type {\n",
              "        vertical-align: middle;\n",
              "    }\n",
              "\n",
              "    .dataframe tbody tr th {\n",
              "        vertical-align: top;\n",
              "    }\n",
              "\n",
              "    .dataframe thead th {\n",
              "        text-align: right;\n",
              "    }\n",
              "</style>\n",
              "<table border=\"1\" class=\"dataframe\">\n",
              "  <thead>\n",
              "    <tr style=\"text-align: right;\">\n",
              "      <th></th>\n",
              "      <th>Puntuación Xi</th>\n",
              "      <th>Votantes Ni</th>\n",
              "      <th>fi</th>\n",
              "      <th>Fi</th>\n",
              "      <th>Ni*Xi</th>\n",
              "    </tr>\n",
              "  </thead>\n",
              "  <tbody>\n",
              "    <tr>\n",
              "      <th>0</th>\n",
              "      <td>0</td>\n",
              "      <td>40</td>\n",
              "      <td>0.0723</td>\n",
              "      <td>0.0723</td>\n",
              "      <td>0</td>\n",
              "    </tr>\n",
              "    <tr>\n",
              "      <th>1</th>\n",
              "      <td>1</td>\n",
              "      <td>96</td>\n",
              "      <td>0.1736</td>\n",
              "      <td>0.2459</td>\n",
              "      <td>96</td>\n",
              "    </tr>\n",
              "    <tr>\n",
              "      <th>2</th>\n",
              "      <td>2</td>\n",
              "      <td>133</td>\n",
              "      <td>0.2405</td>\n",
              "      <td>0.4864</td>\n",
              "      <td>266</td>\n",
              "    </tr>\n",
              "    <tr>\n",
              "      <th>3</th>\n",
              "      <td>3</td>\n",
              "      <td>145</td>\n",
              "      <td>0.2622</td>\n",
              "      <td>0.7486</td>\n",
              "      <td>435</td>\n",
              "    </tr>\n",
              "    <tr>\n",
              "      <th>4</th>\n",
              "      <td>4</td>\n",
              "      <td>99</td>\n",
              "      <td>0.1790</td>\n",
              "      <td>0.9277</td>\n",
              "      <td>396</td>\n",
              "    </tr>\n",
              "    <tr>\n",
              "      <th>5</th>\n",
              "      <td>5</td>\n",
              "      <td>40</td>\n",
              "      <td>0.0723</td>\n",
              "      <td>1.0000</td>\n",
              "      <td>200</td>\n",
              "    </tr>\n",
              "  </tbody>\n",
              "</table>\n",
              "</div>\n",
              "      <button class=\"colab-df-convert\" onclick=\"convertToInteractive('df-14302e7e-c2c4-425b-9bc9-5c16912d4829')\"\n",
              "              title=\"Convert this dataframe to an interactive table.\"\n",
              "              style=\"display:none;\">\n",
              "        \n",
              "  <svg xmlns=\"http://www.w3.org/2000/svg\" height=\"24px\"viewBox=\"0 0 24 24\"\n",
              "       width=\"24px\">\n",
              "    <path d=\"M0 0h24v24H0V0z\" fill=\"none\"/>\n",
              "    <path d=\"M18.56 5.44l.94 2.06.94-2.06 2.06-.94-2.06-.94-.94-2.06-.94 2.06-2.06.94zm-11 1L8.5 8.5l.94-2.06 2.06-.94-2.06-.94L8.5 2.5l-.94 2.06-2.06.94zm10 10l.94 2.06.94-2.06 2.06-.94-2.06-.94-.94-2.06-.94 2.06-2.06.94z\"/><path d=\"M17.41 7.96l-1.37-1.37c-.4-.4-.92-.59-1.43-.59-.52 0-1.04.2-1.43.59L10.3 9.45l-7.72 7.72c-.78.78-.78 2.05 0 2.83L4 21.41c.39.39.9.59 1.41.59.51 0 1.02-.2 1.41-.59l7.78-7.78 2.81-2.81c.8-.78.8-2.07 0-2.86zM5.41 20L4 18.59l7.72-7.72 1.47 1.35L5.41 20z\"/>\n",
              "  </svg>\n",
              "      </button>\n",
              "      \n",
              "  <style>\n",
              "    .colab-df-container {\n",
              "      display:flex;\n",
              "      flex-wrap:wrap;\n",
              "      gap: 12px;\n",
              "    }\n",
              "\n",
              "    .colab-df-convert {\n",
              "      background-color: #E8F0FE;\n",
              "      border: none;\n",
              "      border-radius: 50%;\n",
              "      cursor: pointer;\n",
              "      display: none;\n",
              "      fill: #1967D2;\n",
              "      height: 32px;\n",
              "      padding: 0 0 0 0;\n",
              "      width: 32px;\n",
              "    }\n",
              "\n",
              "    .colab-df-convert:hover {\n",
              "      background-color: #E2EBFA;\n",
              "      box-shadow: 0px 1px 2px rgba(60, 64, 67, 0.3), 0px 1px 3px 1px rgba(60, 64, 67, 0.15);\n",
              "      fill: #174EA6;\n",
              "    }\n",
              "\n",
              "    [theme=dark] .colab-df-convert {\n",
              "      background-color: #3B4455;\n",
              "      fill: #D2E3FC;\n",
              "    }\n",
              "\n",
              "    [theme=dark] .colab-df-convert:hover {\n",
              "      background-color: #434B5C;\n",
              "      box-shadow: 0px 1px 3px 1px rgba(0, 0, 0, 0.15);\n",
              "      filter: drop-shadow(0px 1px 2px rgba(0, 0, 0, 0.3));\n",
              "      fill: #FFFFFF;\n",
              "    }\n",
              "  </style>\n",
              "\n",
              "      <script>\n",
              "        const buttonEl =\n",
              "          document.querySelector('#df-14302e7e-c2c4-425b-9bc9-5c16912d4829 button.colab-df-convert');\n",
              "        buttonEl.style.display =\n",
              "          google.colab.kernel.accessAllowed ? 'block' : 'none';\n",
              "\n",
              "        async function convertToInteractive(key) {\n",
              "          const element = document.querySelector('#df-14302e7e-c2c4-425b-9bc9-5c16912d4829');\n",
              "          const dataTable =\n",
              "            await google.colab.kernel.invokeFunction('convertToInteractive',\n",
              "                                                     [key], {});\n",
              "          if (!dataTable) return;\n",
              "\n",
              "          const docLinkHtml = 'Like what you see? Visit the ' +\n",
              "            '<a target=\"_blank\" href=https://colab.research.google.com/notebooks/data_table.ipynb>data table notebook</a>'\n",
              "            + ' to learn more about interactive tables.';\n",
              "          element.innerHTML = '';\n",
              "          dataTable['output_type'] = 'display_data';\n",
              "          await google.colab.output.renderOutput(dataTable, element);\n",
              "          const docLink = document.createElement('div');\n",
              "          docLink.innerHTML = docLinkHtml;\n",
              "          element.appendChild(docLink);\n",
              "        }\n",
              "      </script>\n",
              "    </div>\n",
              "  </div>\n",
              "  "
            ]
          },
          "metadata": {},
          "execution_count": 10
        }
      ]
    },
    {
      "cell_type": "markdown",
      "source": [
        "*Media*"
      ],
      "metadata": {
        "id": "CsQaGTWcgajx"
      }
    },
    {
      "cell_type": "code",
      "source": [
        "#ahora sumamos los datos de la columna Ni*Xi\n",
        "suma1=df_peliculas['Ni*Xi'].sum()\n",
        "suma2=df_peliculas[' Votantes Ni'].sum()\n",
        "media=(suma1/suma2).round(2)\n",
        "print(\"La media de las estrellas de las pelis es \"+str(media))"
      ],
      "metadata": {
        "colab": {
          "base_uri": "https://localhost:8080/"
        },
        "id": "cV6A6ZcAcUQ8",
        "outputId": "774833ff-dba2-4b29-ca88-9c755dbc3284"
      },
      "execution_count": null,
      "outputs": [
        {
          "output_type": "stream",
          "name": "stdout",
          "text": [
            "La media de las estrellas de las pelis es 2.52\n"
          ]
        }
      ]
    },
    {
      "cell_type": "markdown",
      "source": [
        "*Varianza y desviación típica*"
      ],
      "metadata": {
        "id": "hIjFEXWegcJS"
      }
    },
    {
      "cell_type": "code",
      "source": [
        "#Calculamos la columna Ni*(Xi-media)^2\n",
        "df_peliculas['Ni*(Xi-media)^2']=df_peliculas[' Votantes Ni']*((df_peliculas['Puntuación Xi']-media)**2)\n",
        "df_peliculas"
      ],
      "metadata": {
        "colab": {
          "base_uri": "https://localhost:8080/",
          "height": 252
        },
        "id": "T5mDVig-gc_d",
        "outputId": "624ed86b-60fa-4430-b8b5-d1933f5a3e5e"
      },
      "execution_count": null,
      "outputs": [
        {
          "output_type": "execute_result",
          "data": {
            "text/plain": [
              "   Puntuación Xi   Votantes Ni      fi      Fi  Ni*Xi  Ni*(Xi-media)^2\n",
              "0              0            40  0.0723  0.0723      0         254.0160\n",
              "1              1            96  0.1736  0.2459     96         221.7984\n",
              "2              2           133  0.2405  0.4864    266          35.9632\n",
              "3              3           145  0.2622  0.7486    435          33.4080\n",
              "4              4            99  0.1790  0.9277    396         216.8496\n",
              "5              5            40  0.0723  1.0000    200         246.0160"
            ],
            "text/html": [
              "\n",
              "  <div id=\"df-0583f9a9-8aab-4082-af04-4c08ae5565e8\">\n",
              "    <div class=\"colab-df-container\">\n",
              "      <div>\n",
              "<style scoped>\n",
              "    .dataframe tbody tr th:only-of-type {\n",
              "        vertical-align: middle;\n",
              "    }\n",
              "\n",
              "    .dataframe tbody tr th {\n",
              "        vertical-align: top;\n",
              "    }\n",
              "\n",
              "    .dataframe thead th {\n",
              "        text-align: right;\n",
              "    }\n",
              "</style>\n",
              "<table border=\"1\" class=\"dataframe\">\n",
              "  <thead>\n",
              "    <tr style=\"text-align: right;\">\n",
              "      <th></th>\n",
              "      <th>Puntuación Xi</th>\n",
              "      <th>Votantes Ni</th>\n",
              "      <th>fi</th>\n",
              "      <th>Fi</th>\n",
              "      <th>Ni*Xi</th>\n",
              "      <th>Ni*(Xi-media)^2</th>\n",
              "    </tr>\n",
              "  </thead>\n",
              "  <tbody>\n",
              "    <tr>\n",
              "      <th>0</th>\n",
              "      <td>0</td>\n",
              "      <td>40</td>\n",
              "      <td>0.0723</td>\n",
              "      <td>0.0723</td>\n",
              "      <td>0</td>\n",
              "      <td>254.0160</td>\n",
              "    </tr>\n",
              "    <tr>\n",
              "      <th>1</th>\n",
              "      <td>1</td>\n",
              "      <td>96</td>\n",
              "      <td>0.1736</td>\n",
              "      <td>0.2459</td>\n",
              "      <td>96</td>\n",
              "      <td>221.7984</td>\n",
              "    </tr>\n",
              "    <tr>\n",
              "      <th>2</th>\n",
              "      <td>2</td>\n",
              "      <td>133</td>\n",
              "      <td>0.2405</td>\n",
              "      <td>0.4864</td>\n",
              "      <td>266</td>\n",
              "      <td>35.9632</td>\n",
              "    </tr>\n",
              "    <tr>\n",
              "      <th>3</th>\n",
              "      <td>3</td>\n",
              "      <td>145</td>\n",
              "      <td>0.2622</td>\n",
              "      <td>0.7486</td>\n",
              "      <td>435</td>\n",
              "      <td>33.4080</td>\n",
              "    </tr>\n",
              "    <tr>\n",
              "      <th>4</th>\n",
              "      <td>4</td>\n",
              "      <td>99</td>\n",
              "      <td>0.1790</td>\n",
              "      <td>0.9277</td>\n",
              "      <td>396</td>\n",
              "      <td>216.8496</td>\n",
              "    </tr>\n",
              "    <tr>\n",
              "      <th>5</th>\n",
              "      <td>5</td>\n",
              "      <td>40</td>\n",
              "      <td>0.0723</td>\n",
              "      <td>1.0000</td>\n",
              "      <td>200</td>\n",
              "      <td>246.0160</td>\n",
              "    </tr>\n",
              "  </tbody>\n",
              "</table>\n",
              "</div>\n",
              "      <button class=\"colab-df-convert\" onclick=\"convertToInteractive('df-0583f9a9-8aab-4082-af04-4c08ae5565e8')\"\n",
              "              title=\"Convert this dataframe to an interactive table.\"\n",
              "              style=\"display:none;\">\n",
              "        \n",
              "  <svg xmlns=\"http://www.w3.org/2000/svg\" height=\"24px\"viewBox=\"0 0 24 24\"\n",
              "       width=\"24px\">\n",
              "    <path d=\"M0 0h24v24H0V0z\" fill=\"none\"/>\n",
              "    <path d=\"M18.56 5.44l.94 2.06.94-2.06 2.06-.94-2.06-.94-.94-2.06-.94 2.06-2.06.94zm-11 1L8.5 8.5l.94-2.06 2.06-.94-2.06-.94L8.5 2.5l-.94 2.06-2.06.94zm10 10l.94 2.06.94-2.06 2.06-.94-2.06-.94-.94-2.06-.94 2.06-2.06.94z\"/><path d=\"M17.41 7.96l-1.37-1.37c-.4-.4-.92-.59-1.43-.59-.52 0-1.04.2-1.43.59L10.3 9.45l-7.72 7.72c-.78.78-.78 2.05 0 2.83L4 21.41c.39.39.9.59 1.41.59.51 0 1.02-.2 1.41-.59l7.78-7.78 2.81-2.81c.8-.78.8-2.07 0-2.86zM5.41 20L4 18.59l7.72-7.72 1.47 1.35L5.41 20z\"/>\n",
              "  </svg>\n",
              "      </button>\n",
              "      \n",
              "  <style>\n",
              "    .colab-df-container {\n",
              "      display:flex;\n",
              "      flex-wrap:wrap;\n",
              "      gap: 12px;\n",
              "    }\n",
              "\n",
              "    .colab-df-convert {\n",
              "      background-color: #E8F0FE;\n",
              "      border: none;\n",
              "      border-radius: 50%;\n",
              "      cursor: pointer;\n",
              "      display: none;\n",
              "      fill: #1967D2;\n",
              "      height: 32px;\n",
              "      padding: 0 0 0 0;\n",
              "      width: 32px;\n",
              "    }\n",
              "\n",
              "    .colab-df-convert:hover {\n",
              "      background-color: #E2EBFA;\n",
              "      box-shadow: 0px 1px 2px rgba(60, 64, 67, 0.3), 0px 1px 3px 1px rgba(60, 64, 67, 0.15);\n",
              "      fill: #174EA6;\n",
              "    }\n",
              "\n",
              "    [theme=dark] .colab-df-convert {\n",
              "      background-color: #3B4455;\n",
              "      fill: #D2E3FC;\n",
              "    }\n",
              "\n",
              "    [theme=dark] .colab-df-convert:hover {\n",
              "      background-color: #434B5C;\n",
              "      box-shadow: 0px 1px 3px 1px rgba(0, 0, 0, 0.15);\n",
              "      filter: drop-shadow(0px 1px 2px rgba(0, 0, 0, 0.3));\n",
              "      fill: #FFFFFF;\n",
              "    }\n",
              "  </style>\n",
              "\n",
              "      <script>\n",
              "        const buttonEl =\n",
              "          document.querySelector('#df-0583f9a9-8aab-4082-af04-4c08ae5565e8 button.colab-df-convert');\n",
              "        buttonEl.style.display =\n",
              "          google.colab.kernel.accessAllowed ? 'block' : 'none';\n",
              "\n",
              "        async function convertToInteractive(key) {\n",
              "          const element = document.querySelector('#df-0583f9a9-8aab-4082-af04-4c08ae5565e8');\n",
              "          const dataTable =\n",
              "            await google.colab.kernel.invokeFunction('convertToInteractive',\n",
              "                                                     [key], {});\n",
              "          if (!dataTable) return;\n",
              "\n",
              "          const docLinkHtml = 'Like what you see? Visit the ' +\n",
              "            '<a target=\"_blank\" href=https://colab.research.google.com/notebooks/data_table.ipynb>data table notebook</a>'\n",
              "            + ' to learn more about interactive tables.';\n",
              "          element.innerHTML = '';\n",
              "          dataTable['output_type'] = 'display_data';\n",
              "          await google.colab.output.renderOutput(dataTable, element);\n",
              "          const docLink = document.createElement('div');\n",
              "          docLink.innerHTML = docLinkHtml;\n",
              "          element.appendChild(docLink);\n",
              "        }\n",
              "      </script>\n",
              "    </div>\n",
              "  </div>\n",
              "  "
            ]
          },
          "metadata": {},
          "execution_count": 12
        }
      ]
    },
    {
      "cell_type": "code",
      "source": [
        "varianza=(sum(df_peliculas['Ni*(Xi-media)^2'])/suma2).round(2)\n",
        "d_tip=(np.sqrt(varianza)).round(2)\n",
        "\n",
        "print(\"La varianza es \" +str(varianza))\n",
        "print(\"La desviación típica es \" +str(d_tip))\n"
      ],
      "metadata": {
        "colab": {
          "base_uri": "https://localhost:8080/"
        },
        "id": "h-bQ1DlTiDLX",
        "outputId": "a42b7ac5-e0d3-4382-82e4-9ed6773161f8"
      },
      "execution_count": null,
      "outputs": [
        {
          "output_type": "stream",
          "name": "stdout",
          "text": [
            "La varianza es 1.82\n",
            "La desviación típica es 1.35\n"
          ]
        }
      ]
    },
    {
      "cell_type": "markdown",
      "source": [
        "*Calculo de los 8 %, 95 % y 97 % de repartos.*"
      ],
      "metadata": {
        "id": "94PSZKV1jzpR"
      }
    },
    {
      "cell_type": "code",
      "source": [
        "total_votantes = df_peliculas[' Votantes Ni'].sum()\n",
        "\n",
        "percentil_8 = None\n",
        "percentil_95 = None\n",
        "percentil_97 = None\n",
        "#calculamos el rango del percentil 8%, 95% y 97% utilizando el número total de votantes.\n",
        "rango_percentil_8 = 0.08 * total_votantes\n",
        "rango_percentil_95 = 0.95 * total_votantes\n",
        "rango_percentil_97 = 0.97 * total_votantes\n",
        "# con iterrows(). Para cada fila, comparamos su frecuencia relativa acumulada con el valor del percentil \n",
        "for i, row in df_peliculas.iterrows():\n",
        "    if row['Fi'] >= 0.08 and percentil_8 is None:\n",
        "        if row['Fi'] == 0.08:\n",
        "            percentil_8 = row['Puntuación Xi']\n",
        "        else:\n",
        "            dato_anterior = df_peliculas.loc[i-1, 'Puntuación Xi']\n",
        "            dif_valores = row['Puntuación Xi'] - dato_anterior\n",
        "            fraccion_percentil = (rango_percentil_8 - df_peliculas.loc[i-1, 'Fi'] * total_votantes) / (row[' Votantes Ni'])\n",
        "            percentil_8 = (dato_anterior + (dif_valores * fraccion_percentil)).round(3)\n",
        "    if row['Fi'] >= 0.95 and percentil_95 is None:\n",
        "        if row['Fi'] == 0.95:\n",
        "            percentil_95 = row['Puntuación Xi']\n",
        "        else:\n",
        "            dato_anterior = df_peliculas.loc[i-1, 'Puntuación Xi']\n",
        "            dif_valores = row['Puntuación Xi'] - dato_anterior\n",
        "            fraccion_percentil = (rango_percentil_95 - df_peliculas.loc[i-1, 'Fi'] * total_votantes) / (row[' Votantes Ni'])\n",
        "            percentil_95 =(dato_anterior + (dif_valores * fraccion_percentil)).round(2)\n",
        "    if row['Fi'] >= 0.97 and percentil_97 is None:\n",
        "        if row['Fi'] == 0.97:\n",
        "            percentil_97 = row['Puntuación Xi']\n",
        "        else:\n",
        "            dato_anterior = df_peliculas.loc[i-1, 'Puntuación Xi']\n",
        "            dif_valores = row['Puntuación Xi'] - dato_anterior\n",
        "            fraccion_percentil = (rango_percentil_97 - df_peliculas.loc[i-1, 'Fi'] * total_votantes) / (row[' Votantes Ni'])\n",
        "            percentil_97 = (dato_anterior + (dif_valores * fraccion_percentil)).round(2)\n",
        "\n",
        "\n",
        "  "
      ],
      "metadata": {
        "id": "bN08EnbuVPUJ"
      },
      "execution_count": null,
      "outputs": []
    },
    {
      "cell_type": "code",
      "source": [
        "#estos son los datos que dejan por debajo de sí respectivamente el 8% el 95% y 97 \n",
        "print(\"El percentil 8% es:\", percentil_8)\n",
        "print(\"El percentil 95% es:\", percentil_95)\n",
        "print(\"El percentil 97% es:\", percentil_97)"
      ],
      "metadata": {
        "colab": {
          "base_uri": "https://localhost:8080/"
        },
        "id": "nBUnk896jshU",
        "outputId": "f85f1de3-2cb9-4cb9-8d0b-6dedde02caf1"
      },
      "execution_count": null,
      "outputs": [
        {
          "output_type": "stream",
          "name": "stdout",
          "text": [
            "El percentil 8% es: 0.044\n",
            "El percentil 95% es: 4.31\n",
            "El percentil 97% es: 4.58\n"
          ]
        }
      ]
    },
    {
      "cell_type": "markdown",
      "source": [
        "El  8% de los datos estará entre las puntaciones [0 ,1]\n",
        "\n",
        "El 95% entre el [0,4.31]\n",
        "\n",
        "El 97% entre[0, 4.58]\n",
        "\n",
        "\n",
        "\n"
      ],
      "metadata": {
        "id": "ABxWQ5DKdRAe"
      }
    }
  ]
}